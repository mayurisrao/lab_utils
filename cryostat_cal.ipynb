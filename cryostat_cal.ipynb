{
 "cells": [
  {
   "cell_type": "code",
   "execution_count": 42,
   "id": "dbf16b4e",
   "metadata": {},
   "outputs": [],
   "source": [
    "import numpy as np\n",
    "import math "
   ]
  },
  {
   "cell_type": "code",
   "execution_count": 21,
   "id": "c928f86b",
   "metadata": {},
   "outputs": [
    {
     "name": "stdout",
     "output_type": "stream",
     "text": [
      "Power from physical mass of LNA in J/s or Watt 1.2936\n",
      "Active heat load from of LNA in J/s or Watt 0.0551\n",
      "Total power from of LNA in J/s or Watt 1.3487\n",
      "Total time required to cool LNA is 1.31 min\n"
     ]
    }
   ],
   "source": [
    "#LNA\n",
    "m_lna=14 #in grams\n",
    "T1_lna=300 #initial temp in Kelvins\n",
    "T2_lna=228 #final temp in Kelvins\n",
    "delT_lna=T1_lna-T2_lna\n",
    "C_lna=0.385 #specific heat capacity in J/g K(Cu=0.385); (for Gold, C= 0.129 J/g K)\n",
    "delt_lna=300 #time period of cooling in sec\n",
    "\n",
    "Power_phy_lna=(m_lna*C_lna*delT_lna)/delt_lna\n",
    "print(\"Power from physical mass of LNA in J/s or Watt\",Power_phy_lna)\n",
    "\n",
    "volt_lna= 1.9 #in Volts\n",
    "curr_lna= 0.029 #in Amps\n",
    "\n",
    "Power_elec_lna=volt_lna*curr_lna\n",
    "print(\"Active heat load from of LNA in J/s or Watt\",Power_elec_lna)\n",
    "\n",
    "print(\"Total power from of LNA in J/s or Watt\",Power_elec_lna+Power_phy_lna)\n",
    "\n",
    "### time to cool LNA only in 5W capacity cryostat\n",
    "P_cryostat=5 #Watts\n",
    "time_lna=(m_lna*C_lna*delT_lna)/(P_cryostat-Power_elec_lna)\n",
    "print(\"Total time required to cool LNA is\",\"%.2f\" %(time_lna/60),\"min\")\n",
    "\n",
    "####### LNA WBA2060-30A"
   ]
  },
  {
   "cell_type": "code",
   "execution_count": 50,
   "id": "ef0f59ae",
   "metadata": {},
   "outputs": [],
   "source": [
    "#Coax\n",
    "k_coax=0.15 #thermal conductivity of stainless steel in watt per Kelvin per cm\n",
    "#1 inch = 2.54cm\n",
    "#1 AWG = 7.35 mm diameter\n",
    "#for RG219/U Coaxial cable: diameter 0.928 inch -> cross section = 3.14*(0.928*2.54/2)**2\n",
    "l_coax= 100 #length in cm\n",
    "A_coax= 4.3614 #in cm^2\n",
    "T1_coax=300 #end of coax outside cryostat, temp in Kelvins\n",
    "T2_coax=228 #end of coax inside cryostat, temp in Kelvins"
   ]
  },
  {
   "cell_type": "code",
   "execution_count": null,
   "id": "1f0ca70a",
   "metadata": {},
   "outputs": [],
   "source": []
  },
  {
   "cell_type": "code",
   "execution_count": 55,
   "id": "1e5786e4",
   "metadata": {},
   "outputs": [
    {
     "name": "stdout",
     "output_type": "stream",
     "text": [
      "Convective load is 1.2 Watt\n",
      "Conductive load is 0.0707 Watt\n",
      "Radiative load is 0.5015 Watt\n"
     ]
    }
   ],
   "source": [
    "#FLETCHER et al. Extended temperature tuning of an external cavity diode laser \n",
    "# Heat load calculations:\n",
    "# for Cu block of 2cm x 2cm x 2cm exposed on 5 sides, cooled 60 deg below room temp of 20 deg\n",
    "# it is connected to six 30 AWG copper wires at room temp\n",
    "#10 cm of 30 AWG has a resistance of the order of 0.05 Ω\n",
    "\n",
    "h_air=10*10**(-4) # W/cm^2 K for still air; convective heat transfer coefficient\n",
    "k_Cu = 386*10**(-2) #W/cm K conductivity for Cu\n",
    "e = 1 #emissivity of diode mount / efficiency of radiative heat transfer?\n",
    "sigma = 5.67*10**(-8)*10**(-4) #Stephan's constant in W/cm^2 K^4\n",
    "l_Cu= 2 #length of block cm\n",
    "A_Cu=5*(l_Cu)**2\n",
    "T_hot=293\n",
    "T_cold=233\n",
    "delT_Cu=T_hot-T_cold\n",
    "z_wire=10 #length of wire in cm\n",
    "area_wire=0.0509 # cross section of wire in mm^2 (from AWG)\n",
    "n_wires=6 #number of Cu wires connected to DUT\n",
    "\n",
    "Qconv_Cu=h_air*A_Cu*delT_Cu\n",
    "Qcond_Cu=k_Cu*n_wires*area_wire*10**(-2)*delT_Cu/(z_wire)  #For 30 AWG wire, cross section area is 0.0509 mm^2 (from AWG to mm convserion table)\n",
    "Qrad_Cu=e*sigma*A_Cu*(T_hot**4-T_cold**4)\n",
    "print(\"Convective load is\",Qconv_Cu,\"Watt\")\n",
    "print(\"Conductive load is\",\"%.4f\" %Qcond_Cu,\"Watt\")\n",
    "print(\"Radiative load is\",\"%.4f\" %Qrad_Cu,\"Watt\")"
   ]
  },
  {
   "cell_type": "code",
   "execution_count": null,
   "id": "05b76645",
   "metadata": {
    "scrolled": true
   },
   "outputs": [],
   "source": []
  },
  {
   "cell_type": "code",
   "execution_count": null,
   "id": "1c562088",
   "metadata": {},
   "outputs": [],
   "source": []
  },
  {
   "cell_type": "code",
   "execution_count": null,
   "id": "024b6c5c",
   "metadata": {},
   "outputs": [],
   "source": []
  },
  {
   "cell_type": "code",
   "execution_count": null,
   "id": "9f7aadcd",
   "metadata": {},
   "outputs": [],
   "source": []
  }
 ],
 "metadata": {
  "kernelspec": {
   "display_name": "Python 3 (ipykernel)",
   "language": "python",
   "name": "python3"
  },
  "language_info": {
   "codemirror_mode": {
    "name": "ipython",
    "version": 3
   },
   "file_extension": ".py",
   "mimetype": "text/x-python",
   "name": "python",
   "nbconvert_exporter": "python",
   "pygments_lexer": "ipython3",
   "version": "3.11.5"
  }
 },
 "nbformat": 4,
 "nbformat_minor": 5
}

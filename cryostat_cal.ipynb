{
 "cells": [
  {
   "cell_type": "code",
   "execution_count": 42,
   "id": "d589ef8f",
   "metadata": {},
   "outputs": [],
   "source": [
    "import numpy as np\n",
    "import math "
   ]
  },
  {
   "cell_type": "code",
   "execution_count": 57,
   "id": "2c5e4c14",
   "metadata": {},
   "outputs": [],
   "source": [
    "P_cryostat=5 #Watts\n",
    "T_low=80\n",
    "T_high=300\n",
    "T_mid=233 #40 deg C\n",
    "tem=T_mid\n",
    "#tem=T_low"
   ]
  },
  {
   "cell_type": "code",
   "execution_count": 58,
   "id": "dff9ea9c",
   "metadata": {},
   "outputs": [
    {
     "name": "stdout",
     "output_type": "stream",
     "text": [
      "Power from physical mass of LNA in J/s or Watt 1.2037666666666669\n",
      "Active heat load from of LNA in J/s or Watt 0.48\n",
      "Total power from of LNA in J/s or Watt 1.6837666666666669\n",
      "Total time required to cool LNA is 1.33 min\n"
     ]
    }
   ],
   "source": [
    "#LNA\n",
    "m_lna=14 #in grams\n",
    "T1_lna=300 #initial temp in Kelvins\n",
    "T2_lna=80 #final temp in Kelvins\n",
    "delT_lna=T1_lna-tem\n",
    "C_lna=0.385 #specific heat capacity in J/g K; (Cu=0.385); for Gold, C= 0.129 J/g K\n",
    "delt_lna=300 #time period of cooling in sec\n",
    "\n",
    "Power_phy_lna=(m_lna*C_lna*delT_lna)/delt_lna\n",
    "print(\"Power from physical mass of LNA in J/s or Watt\",Power_phy_lna)\n",
    "\n",
    "volt_lna= 6 #in Volts\n",
    "curr_lna= 0.08 #in Amps\n",
    "\n",
    "Power_elec_lna=volt_lna*curr_lna\n",
    "print(\"Active heat load from of LNA in J/s or Watt\",Power_elec_lna)\n",
    "\n",
    "print(\"Total power from of LNA in J/s or Watt\",Power_elec_lna+Power_phy_lna)\n",
    "\n",
    "### time to cool LNA only in 5W capacity cryostat\n",
    "\n",
    "time_lna=(m_lna*C_lna*delT_lna)/(P_cryostat-Power_elec_lna)\n",
    "print(\"Total time required to cool LNA is\",\"%.2f\" %(time_lna/60),\"min\")\n",
    "\n",
    "####### LNA WBA2060-30A"
   ]
  },
  {
   "cell_type": "code",
   "execution_count": 59,
   "id": "b79f53d5",
   "metadata": {},
   "outputs": [],
   "source": [
    "# #Coax\n",
    "# k_coax=0.15 #thermal conductivity of stainless steel in Watt per Kelvin per cm\n",
    "# #1 inch = 2.54cm\n",
    "# #1 AWG = 7.35 mm diameter\n",
    "# #for RG219/U Coaxial cable: diameter 0.928 inch -> cross section = 3.14*(0.928*2.54/2)**2\n",
    "\n",
    "# l_coax= 10 #length in cm\n",
    "# dia_coax=0.928 #in inchs\n",
    "# T1_coax=300 #end of coax outside cryostat, temp in Kelvins\n",
    "# T2_coax=238 #end of coax inside cryostat, temp in Kelvins\n",
    "\n",
    "# A_coax= 3.14*(dia_coax*2.54/2)**2 #in cm^2\n",
    "# del_Toax=T1_coax-T2_coax\n",
    "# P_coax=k_coax*A_coax*del_Toax/l_coax\n",
    "# print(\"Conductive load of coax is\",\"%.4f\" %P_coax,\"Watt\")"
   ]
  },
  {
   "cell_type": "code",
   "execution_count": 60,
   "id": "a693aa81",
   "metadata": {},
   "outputs": [
    {
     "name": "stdout",
     "output_type": "stream",
     "text": [
      "Conductive load of coax to cool from 300 to 80 is 0.3156 Watt\n"
     ]
    }
   ],
   "source": [
    "#Coax\n",
    "k_coax=0.15 #thermal conductivity of stainless steel in Watt per Kelvin per cm\n",
    "#1 inch = 2.54cm\n",
    "#1 AWG = 7.35 mm diameter\n",
    "#for RG219/U Coaxial cable: diameter 0.928 inch -> cross section = 3.14*(0.928*2.54/2)**2\n",
    "\n",
    "l_coax= 4 #length in cm\n",
    "dia_coax=4 #in mm\n",
    "T1_coax=300 #end of coax outside cryostat, temp in Kelvins\n",
    "T2_coax=80 #end of coax inside cryostat, temp in Kelvins\n",
    "\n",
    "A_coax= 3.14*(dia_coax*0.1/2)**2 #in cm^2\n",
    "del_Toax=T1_coax-tem\n",
    "P_coax=k_coax*A_coax*del_Toax/l_coax\n",
    "print(\"Conductive load of coax to cool from\",T1_coax,\"to\",T2_coax,\"is\",\"%.4f\" %P_coax,\"Watt\")"
   ]
  },
  {
   "cell_type": "code",
   "execution_count": 61,
   "id": "cf8f5459",
   "metadata": {},
   "outputs": [
    {
     "name": "stdout",
     "output_type": "stream",
     "text": [
      "Total time required to cool Cu plate is 42.99 min\n"
     ]
    }
   ],
   "source": [
    "# Cu mount plate\n",
    "# Conductive load -> time required to cool\n",
    "# Independent of dimensions (required for thermal conductivity calculations)?\n",
    "# Only consider phyiscal mass and specific heat to calculate time req to cool\n",
    "# Dimensions of exsiting plate: Diameter = 6cm, height = 1cm, mass = 200 g ?\n",
    "C_plate=0.385 #J/g K\n",
    "m_plate=500 # in grams\n",
    "T1_plate=300 #initial temp in Kelvins\n",
    "T2_plate=238 #final temp in Kelvins (-35 deg C)\n",
    "delT_plate=T1_plate-tem\n",
    "t_plate=m_plate*C_plate*delT_plate/(P_cryostat)#-Power_elec_lna)\n",
    "print(\"Total time required to cool Cu plate is\",\"%.2f\" %(t_plate/60),\"min\")"
   ]
  },
  {
   "cell_type": "code",
   "execution_count": 62,
   "id": "3e87b37e",
   "metadata": {},
   "outputs": [
    {
     "name": "stdout",
     "output_type": "stream",
     "text": [
      "Convective load is 1.2 Watt\n",
      "Conductive load is 0.0707 Watt\n",
      "Radiative load is 0.5015 Watt\n"
     ]
    }
   ],
   "source": [
    "#FLETCHER et al. Extended temperature tuning of an external cavity diode laser \n",
    "# Heat load calculations:\n",
    "# for Cu block of 2cm x 2cm x 2cm exposed on 5 sides, cooled 60 deg below room temp of 20 deg\n",
    "# it is connected to six 30 AWG copper wires at room temp\n",
    "#10 cm of 30 AWG has a resistance of the order of 0.05 Ω\n",
    "\n",
    "h_air=10*10**(-4) # W/cm^2 K for still air; convective heat transfer coefficient\n",
    "e = 1 #emissivity of diode mount / efficiency of radiative heat transfer?\n",
    "sigma = 5.67*10**(-8)*10**(-4) #Stephan's constant in W/cm^2 K^4\n",
    "# DUT\n",
    "k_Cu = 386*10**(-2) #W/cm K conductivity for Cu\n",
    "l_Cu= 2 #length of block cm\n",
    "A_Cu=5*(l_Cu)**2\n",
    "T_hot=293\n",
    "T_cold=233\n",
    "delT_Cu=T_hot-T_cold\n",
    "#Wires & conductive loss\n",
    "z_wire=10 #length of wire in cm\n",
    "area_wire=0.0509 # cross section of wire in mm^2 (from AWG)\n",
    "n_wires=6 #number of Cu wires connected to DUT\n",
    "\n",
    "Qconv_Cu=h_air*A_Cu*delT_Cu\n",
    "Qcond_Cu=k_Cu*n_wires*area_wire*10**(-2)*delT_Cu/(z_wire)  #For 30 AWG wire, cross section area is 0.0509 mm^2 (from AWG to mm convserion table)\n",
    "Qrad_Cu=e*sigma*A_Cu*(T_hot**4-T_cold**4)\n",
    "print(\"Convective load is\",Qconv_Cu,\"Watt\")\n",
    "print(\"Conductive load is\",\"%.4f\" %Qcond_Cu,\"Watt\")\n",
    "print(\"Radiative load is\",\"%.4f\" %Qrad_Cu,\"Watt\")"
   ]
  },
  {
   "cell_type": "code",
   "execution_count": 63,
   "id": "398e3fd2-86e8-40f5-a10d-1a879ca80214",
   "metadata": {},
   "outputs": [
    {
     "name": "stdout",
     "output_type": "stream",
     "text": [
      "Active heat load from of LNA in J/s or Watt 1.5\n",
      "Total time required to cool switch from 300 K to 80 K is 19.14 min\n"
     ]
    }
   ],
   "source": [
    "# Cryo switch:\n",
    "# R5927B2141  0 - 26.5 GHz\n",
    "m_cs1=120 #in grams\n",
    "T1_cs1=300 #initial temp in Kelvins\n",
    "T2_cs1=80 #final temp in Kelvins\n",
    "delT_cs1=T1_cs1-tem\n",
    "C_cs1=0.50 #specific heat capacity in J/g K; for silicon\n",
    "delt_cs1=300 #time period of cooling in sec\n",
    "\n",
    "Power_phy_cs1=(m_cs1*C_cs1*delT_cs1)/delt_cs1\n",
    "#print(\"Power from physical mass of LNA in J/s or Watt\",Power_phy_cs1)\n",
    "\n",
    "volt_cs1= 12 #in Volts\n",
    "curr_cs1= 0.125 #in Amps (100mA at 25 deg C)\n",
    "\n",
    "Power_elec_cs1=volt_cs1*curr_cs1\n",
    "print(\"Active heat load from of LNA in J/s or Watt\",Power_elec_cs1)\n",
    "\n",
    "#print(\"Total power from of LNA in J/s or Watt\",Power_elec_cs1+Power_phy_cs1)\n",
    "\n",
    "### time to cool LNA only in 5W capacity cryostat\n",
    "\n",
    "time_cs1=(m_cs1*C_cs1*delT_cs1)/(P_cryostat-Power_elec_cs1)\n",
    "print(\"Total time required to cool switch from\",T1_cs1,\"K to\",T2_cs1,\"K is\",\"%.2f\" %(time_cs1/60),\"min\")\n"
   ]
  },
  {
   "cell_type": "code",
   "execution_count": 64,
   "id": "e80b7781-5550-4abc-ac53-cbfd672bccd6",
   "metadata": {},
   "outputs": [
    {
     "name": "stdout",
     "output_type": "stream",
     "text": [
      "Active heat load from of LNA in J/s or Watt 1.5\n",
      "Total time required to cool switch from 300 K to 80 K is 28.71 min\n"
     ]
    }
   ],
   "source": [
    "# Cryo switch:\n",
    "# R583423141   0 - 18 GHz\n",
    "m_cs2=180 #in grams\n",
    "T1_cs2=300 #initial temp in Kelvins\n",
    "T2_cs2=80 #final temp in Kelvins\n",
    "delT_cs2=T1_cs2-tem\n",
    "C_cs2=0.50 #specific heat capacity in J/g K; for silicon\n",
    "delt_cs2=300 #time period of cooling in sec\n",
    "\n",
    "Power_phy_cs2=(m_cs2*C_cs2*delT_cs2)/delt_cs2\n",
    "#print(\"Power from physical mass of LNA in J/s or Watt\",Power_phy_cs2)\n",
    "\n",
    "volt_cs2= 24 #in Volts\n",
    "curr_cs2= 0.0625 #in Amps (62.5 mA at 25 deg C)\n",
    "\n",
    "Power_elec_cs2=volt_cs2*curr_cs2\n",
    "print(\"Active heat load from of LNA in J/s or Watt\",Power_elec_cs2)\n",
    "\n",
    "#print(\"Total power from of LNA in J/s or Watt\",Power_elec_cs2+Power_phy_cs2)\n",
    "\n",
    "### time to cool LNA only in 5W capacity cryostat\n",
    "\n",
    "time_cs2=(m_cs2*C_cs2*delT_cs2)/(P_cryostat-Power_elec_cs2)\n",
    "print(\"Total time required to cool switch from\",T1_cs2,\"K to\",T2_cs2,\"K is\",\"%.2f\" %(time_cs2/60),\"min\")\n"
   ]
  },
  {
   "cell_type": "code",
   "execution_count": 65,
   "id": "2a12f433-8895-40bf-bf2f-acf7171c22ae",
   "metadata": {},
   "outputs": [
    {
     "name": "stdout",
     "output_type": "stream",
     "text": [
      "Total time required to cool the system from 300 K to 233 K is 106.48 min\n"
     ]
    }
   ],
   "source": [
    "Power_budget=P_cryostat-Power_elec_cs1-Power_elec_lna-P_coax\n",
    "total_time=((m_cs1*C_cs1*delT_cs1)+(m_plate*C_plate*delT_plate)+(m_lna*C_lna*delT_lna))/Power_budget\n",
    "print(\"Total time required to cool the system from\",T1_cs1,\"K to\",tem,\"K is\",\"%.2f\" %(total_time/60),\"min\")"
   ]
  },
  {
   "cell_type": "code",
   "execution_count": null,
   "id": "7fb672e2-1ccb-4c61-822a-0f2df8cc0e22",
   "metadata": {},
   "outputs": [],
   "source": []
  },
  {
   "cell_type": "code",
   "execution_count": null,
   "id": "8e04cc6e-6b09-418f-855c-1a357588f7da",
   "metadata": {},
   "outputs": [],
   "source": []
  }
 ],
 "metadata": {
  "kernelspec": {
   "display_name": "Python 3 (ipykernel)",
   "language": "python",
   "name": "python3"
  },
  "language_info": {
   "codemirror_mode": {
    "name": "ipython",
    "version": 3
   },
   "file_extension": ".py",
   "mimetype": "text/x-python",
   "name": "python",
   "nbconvert_exporter": "python",
   "pygments_lexer": "ipython3",
   "version": "3.12.1"
  }
 },
 "nbformat": 4,
 "nbformat_minor": 5
}

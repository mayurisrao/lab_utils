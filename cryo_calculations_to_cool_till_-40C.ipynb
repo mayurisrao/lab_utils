{
 "cells": [
  {
   "cell_type": "code",
   "execution_count": 28,
   "id": "77d4887a-e9ec-44e3-b572-2f404b39bd48",
   "metadata": {},
   "outputs": [],
   "source": [
    "import numpy as np\n",
    "import math \n",
    "from scipy import integrate"
   ]
  },
  {
   "cell_type": "code",
   "execution_count": 62,
   "id": "8a8f6a8d-0873-4754-bc5d-4f74b51dcf09",
   "metadata": {},
   "outputs": [],
   "source": [
    "# P_cryostat = 5 Watts\n",
    "T_mid=233\n",
    "T_high=300\n",
    "T_diff=T_high-T_mid\n",
    "#P_cryostat=40"
   ]
  },
  {
   "cell_type": "code",
   "execution_count": 63,
   "id": "ccaf5f9c-5eea-4182-b8d4-ca0015efe8c1",
   "metadata": {},
   "outputs": [],
   "source": [
    "# Cryostat equation from power vs temp curve:\n",
    "# boundary terms: P=27 at x=220; P=32 at x = 260\n",
    "# eq: P= 1/8 * (T-4)"
   ]
  },
  {
   "cell_type": "code",
   "execution_count": 64,
   "id": "e84e9d77-d733-4b77-adfa-e5bd6950181e",
   "metadata": {},
   "outputs": [
    {
     "name": "stdout",
     "output_type": "stream",
     "text": [
      "Active heat load from of LNA in J/s or Watt 0.48\n"
     ]
    }
   ],
   "source": [
    "#LNA\n",
    "m_lna=50 #in grams\n",
    "delT_lna=T_diff\n",
    "C_lna=0.385 #specific heat capacity in J/g K; (Cu=0.385); for Gold, C= 0.129 J/g K\n",
    "#delt_lna=300 #time period of cooling in sec\n",
    "\n",
    "#Power_phy_lna=(m_lna*C_lna*delT_lna)/delt_lna\n",
    "#print(\"Power from physical mass of LNA in J/s or Watt\",Power_phy_lna)\n",
    "\n",
    "volt_lna= 6 #in Volts\n",
    "curr_lna= 0.08 #in Amps\n",
    "\n",
    "Power_elec_lna=volt_lna*curr_lna\n",
    "print(\"Active heat load from of LNA in J/s or Watt\",Power_elec_lna)\n",
    "\n",
    "#print(\"Total power from of LNA in J/s or Watt\",Power_elec_lna+Power_phy_lna)\n",
    "\n",
    "### time to cool LNA only in 5W capacity cryostat\n",
    "\n",
    "time_lna=(m_lna*C_lna*delT_lna)/(P_cryostat-Power_elec_lna)\n",
    "#print(\"Total time required to cool LNA is\",\"%.2f\" %(time_lna/60),\"min\")\n",
    "\n",
    "####### LNA WBA2060-30A"
   ]
  },
  {
   "cell_type": "code",
   "execution_count": 65,
   "id": "8140e350-a852-488c-8422-6897b3a68407",
   "metadata": {},
   "outputs": [],
   "source": [
    "x1 = lambda T: m_lna*C_lna/((T-4)/8 - Power_elec_lna)\n",
    "popt1,cov1=integrate.quad(x1, T_mid, T_high)"
   ]
  },
  {
   "cell_type": "code",
   "execution_count": 66,
   "id": "e6468bb3-50ba-4df5-995f-62e48adb04c6",
   "metadata": {},
   "outputs": [
    {
     "name": "stdout",
     "output_type": "stream",
     "text": [
      "Total time required to cool LNA is 0.67 min\n"
     ]
    }
   ],
   "source": [
    "print(\"Total time required to cool LNA is\",\"%.2f\" %(popt1/60),\"min\")"
   ]
  },
  {
   "cell_type": "code",
   "execution_count": 67,
   "id": "6120337e-493f-458b-b792-060ce6eccfd6",
   "metadata": {},
   "outputs": [],
   "source": [
    "# Cu mount plate\n",
    "# Conductive load -> time required to cool\n",
    "# Independent of dimensions (required for thermal conductivity calculations)?\n",
    "# Only consider physical mass and specific heat to calculate time req to cool\n",
    "# Dimensions of exsiting plate: Diameter = 6cm, height = 1cm, mass = 200 g ?\n",
    "C_plate=0.385 #J/g K\n",
    "m_plate=750 # in grams\n",
    "delT_plate=T_diff\n",
    "\n",
    "t_plate=m_plate*C_plate*delT_plate/(P_cryostat)\n",
    "#print(\"Total time required to cool Cu plate is\",\"%.2f\" %(t_plate/60),\"min\")"
   ]
  },
  {
   "cell_type": "code",
   "execution_count": 68,
   "id": "84a614a4-c98d-43be-8a35-29077025fe60",
   "metadata": {},
   "outputs": [],
   "source": [
    "x2 = lambda T: m_plate*C_plate/((T-4)/8)\n",
    "popt2,cov2=integrate.quad(x2, T_mid, T_high)"
   ]
  },
  {
   "cell_type": "code",
   "execution_count": 69,
   "id": "130245cb-e7ca-416d-b952-c74ed2bdabfc",
   "metadata": {},
   "outputs": [
    {
     "name": "stdout",
     "output_type": "stream",
     "text": [
      "Total time required to cool Cu plate is 9.88 min\n"
     ]
    }
   ],
   "source": [
    "print(\"Total time required to cool Cu plate is\",\"%.2f\" %(popt2/60),\"min\")"
   ]
  },
  {
   "cell_type": "code",
   "execution_count": 70,
   "id": "b188b1a2-d9b8-4be9-b2d7-fd12427d1a26",
   "metadata": {},
   "outputs": [
    {
     "name": "stdout",
     "output_type": "stream",
     "text": [
      "Active heat load from of cryo switch in J/s or Watt 1.5\n"
     ]
    }
   ],
   "source": [
    "# Cryo switch:\n",
    "# R5927B2141  0 - 26.5 GHz\n",
    "m_cs1=120 #in grams\n",
    "delT_cs1=T_diff\n",
    "C_cs1=0.50 #specific heat capacity in J/g K; for silicon\n",
    "\n",
    "\n",
    "#Power_phy_cs1=(m_cs1*C_cs1*delT_cs1)/delt_cs1\n",
    "#print(\"Power from physical mass of LNA in J/s or Watt\",Power_phy_cs1)\n",
    "\n",
    "volt_cs1= 12 #in Volts\n",
    "curr_cs1= 0.125 #in Amps (100mA at 25 deg C)\n",
    "\n",
    "Power_elec_cs1=volt_cs1*curr_cs1\n",
    "print(\"Active heat load from of cryo switch in J/s or Watt\",Power_elec_cs1)\n",
    "\n",
    "#print(\"Total power from of LNA in J/s or Watt\",Power_elec_cs1+Power_phy_cs1)\n",
    "\n",
    "### time to cool LNA only in 5W capacity cryostat\n",
    "\n",
    "time_cs1=(m_cs1*C_cs1*delT_cs1)/(P_cryostat-Power_elec_cs1)\n",
    "#print(\"Total time required to cool switch from\",T_high,\"K to\",T_mid,\"K is\",\"%.2f\" %(time_cs1/60),\"min\")\n"
   ]
  },
  {
   "cell_type": "code",
   "execution_count": 73,
   "id": "40dfb3ff-af26-485a-994e-7ef7727ee92e",
   "metadata": {},
   "outputs": [],
   "source": [
    "x3 = lambda T: m_cs1*C_cs1/((T-4)/8 - Power_elec_cs1)\n",
    "popt3,cov3=integrate.quad(x3, T_mid, T_high)"
   ]
  },
  {
   "cell_type": "code",
   "execution_count": 74,
   "id": "238a52d3-9053-4b2d-b397-36f0033a43d7",
   "metadata": {},
   "outputs": [
    {
     "name": "stdout",
     "output_type": "stream",
     "text": [
      "Total time required to cool switch from 300 K to 233 K is 2.15 min\n"
     ]
    }
   ],
   "source": [
    "print(\"Total time required to cool switch from\",T_high,\"K to\",T_mid,\"K is\",\"%.2f\" %(popt3/60),\"min\")"
   ]
  },
  {
   "cell_type": "code",
   "execution_count": 75,
   "id": "c7084199-6734-495b-955d-de036e137888",
   "metadata": {},
   "outputs": [
    {
     "name": "stdout",
     "output_type": "stream",
     "text": [
      "Conductive load of coax to cool from 300 to 233 is 0.3156 Watt\n"
     ]
    }
   ],
   "source": [
    "#Coax\n",
    "k_coax=0.15 #thermal conductivity of stainless steel in Watt per Kelvin per cm\n",
    "#1 inch = 2.54cm\n",
    "#1 AWG = 7.35 mm diameter\n",
    "#for RG219/U Coaxial cable: diameter 0.928 inch -> cross section = 3.14*(0.928*2.54/2)**2\n",
    "\n",
    "l_coax= 4 #length in cm\n",
    "dia_coax=4 #in mm\n",
    "\n",
    "\n",
    "A_coax= 3.14*(dia_coax*0.1/2)**2 #in cm^2\n",
    "del_Toax=T_diff\n",
    "P_coax=k_coax*A_coax*del_Toax/l_coax\n",
    "print(\"Conductive load of coax to cool from\",T_high,\"to\",T_mid,\"is\",\"%.4f\" %P_coax,\"Watt\")"
   ]
  },
  {
   "cell_type": "code",
   "execution_count": 77,
   "id": "d79cff4e-6a09-46ab-88ae-582740917416",
   "metadata": {},
   "outputs": [
    {
     "name": "stdout",
     "output_type": "stream",
     "text": [
      "Active heat load from of noise source in J/s or Watt 0.1\n"
     ]
    }
   ],
   "source": [
    "# Noise source\n",
    "# R5927B2141  0 - 26.5 GHz\n",
    "m_ns=200 #in grams\n",
    "delT_ns=T_diff\n",
    "C_ns=0.90 #specific heat capacity in J/g K; for aluminium\n",
    "\n",
    "\n",
    "#Power_phy_cs1=(m_cs1*C_cs1*delT_cs1)/delt_cs1\n",
    "#print(\"Power from physical mass of LNA in J/s or Watt\",Power_phy_cs1)\n",
    "\n",
    "volt_ns= 5 #in Volts\n",
    "curr_ns= 0.020 #in Amps (100mA at 25 deg C)\n",
    "\n",
    "Power_elec_ns=volt_ns*curr_ns\n",
    "print(\"Active heat load from of noise source in J/s or Watt\",Power_elec_ns)\n",
    "\n",
    "#print(\"Total power from of LNA in J/s or Watt\",Power_elec_cs1+Power_phy_cs1)\n",
    "\n",
    "### time to cool LNA only in 5W capacity cryostat\n",
    "\n",
    "time_ns=(m_ns*C_ns*delT_ns)/(P_cryostat-Power_elec_ns)\n",
    "#print(\"Total time required to cool noise source from\",T_high,\"K to\",T_mid,\"K is\",\"%.2f\" %(time_ns/60),\"min\")\n"
   ]
  },
  {
   "cell_type": "code",
   "execution_count": 78,
   "id": "c4eeef79-4bff-4702-9228-c7c12bdde727",
   "metadata": {},
   "outputs": [],
   "source": [
    "x4 = lambda T: m_ns*C_ns/((T-4)/8 - Power_elec_ns)\n",
    "popt4,cov4=integrate.quad(x4, T_mid, T_high)"
   ]
  },
  {
   "cell_type": "code",
   "execution_count": 79,
   "id": "8eaeb945-04f1-447f-a1d1-a4e31d0bf299",
   "metadata": {},
   "outputs": [
    {
     "name": "stdout",
     "output_type": "stream",
     "text": [
      "Total time required to cool noise source from 300 K to 233 K is 6.18 min\n"
     ]
    }
   ],
   "source": [
    "print(\"Total time required to cool noise source from\",T_high,\"K to\",T_mid,\"K is\",\"%.2f\" %(popt4/60),\"min\")"
   ]
  },
  {
   "cell_type": "code",
   "execution_count": 80,
   "id": "e0c67377-6273-4476-8fbf-feb317e912ea",
   "metadata": {},
   "outputs": [],
   "source": [
    "# Cryo circulator\n",
    "# R5927B2141  0 - 26.5 GHz\n",
    "m_cc=400 #in grams\n",
    "delT_cc=T_diff\n",
    "C_cc=0.90 #specific heat capacity in J/g K; for aluminium\n",
    "\n",
    "\n",
    "\n",
    "\n",
    "#print(\"Total power from of LNA in J/s or Watt\",Power_elec_cs1+Power_phy_cs1)\n",
    "\n",
    "### time to cool LNA only in 5W capacity cryostat\n",
    "\n",
    "time_cc=(m_cc*C_cc*delT_cc)/(P_cryostat)\n",
    "#print(\"Total time required to cool cryo circulator from\",T_high,\"K to\",T_mid,\"K is\",\"%.2f\" %(time_cs1/60),\"min\")\n"
   ]
  },
  {
   "cell_type": "code",
   "execution_count": 81,
   "id": "4bc1edb5-d911-482b-a1bc-ceafc96bf498",
   "metadata": {},
   "outputs": [],
   "source": [
    "x5 = lambda T: m_cc*C_cc/((T-4)/8)\n",
    "popt5,cov5=integrate.quad(x5, T_mid, T_high)"
   ]
  },
  {
   "cell_type": "code",
   "execution_count": 82,
   "id": "655ff544-2f16-4391-bd34-a2963e32a7c3",
   "metadata": {},
   "outputs": [
    {
     "name": "stdout",
     "output_type": "stream",
     "text": [
      "Total time required to cool cryo circulator from 300 K to 233 K is 12.32 min\n"
     ]
    }
   ],
   "source": [
    "print(\"Total time required to cool cryo circulator from\",T_high,\"K to\",T_mid,\"K is\",\"%.2f\" %(popt5/60),\"min\")"
   ]
  },
  {
   "cell_type": "code",
   "execution_count": 83,
   "id": "bdb14d9d-36c4-4465-896a-cf3b0f855177",
   "metadata": {},
   "outputs": [],
   "source": [
    "# Net time taken with all the above components\n",
    "P_total_load1=Power_elec_ns+P_coax+Power_elec_cs1+Power_elec_lna\n",
    "total_time=((m_lna*C_lna*delT_lna)+(m_plate*C_plate*delT_plate)+(m_cs1*C_cs1*delT_cs1)+(m_ns*C_ns*delT_ns)+(m_cc*C_cc*delT_cc))/(P_cryostat-P_total_load1)\n",
    "#print(\"%.2f\" %(total_time/60),\"min\")"
   ]
  },
  {
   "cell_type": "code",
   "execution_count": 84,
   "id": "c12c0947-8e07-4374-9e7d-118f2d901f9e",
   "metadata": {},
   "outputs": [],
   "source": [
    "x6 = lambda T: ((m_lna*C_lna)+(m_plate*C_plate)+(m_cs1*C_cs1)+(m_ns*C_ns)+(m_cc*C_cc))/((T-4)/8 - P_total_load1)\n",
    "popt6,cov6=integrate.quad(x6, T_mid, T_high)"
   ]
  },
  {
   "cell_type": "code",
   "execution_count": 85,
   "id": "d9121df8-193b-41ff-86bb-55461f8f34dd",
   "metadata": {},
   "outputs": [
    {
     "name": "stdout",
     "output_type": "stream",
     "text": [
      "Total time with all components and 1.5 kg load is 33.55 minutes\n"
     ]
    }
   ],
   "source": [
    "print(\"Total time with all components and 1.5 kg load is %.2f\" %(popt6/60),\"minutes\")"
   ]
  },
  {
   "cell_type": "code",
   "execution_count": 86,
   "id": "d43068c0-e30c-4bac-b664-549e3bf9ab42",
   "metadata": {},
   "outputs": [
    {
     "data": {
      "text/plain": [
       "2.39557"
      ]
     },
     "execution_count": 86,
     "metadata": {},
     "output_type": "execute_result"
    }
   ],
   "source": [
    "P_total_load1"
   ]
  },
  {
   "cell_type": "code",
   "execution_count": 87,
   "id": "3a5485e8-c9c6-47df-b841-385064cd090c",
   "metadata": {},
   "outputs": [],
   "source": [
    "# Net time taken without coax loss\n",
    "P_total_load2=Power_elec_ns+Power_elec_cs1+Power_elec_lna\n",
    "total_time=((m_lna*C_lna*delT_lna)+(m_plate*C_plate*delT_plate)+(m_cs1*C_cs1*delT_cs1)+(m_ns*C_ns*delT_ns)+(m_cc*C_cc*delT_cc))/(P_cryostat-P_total_load2)\n",
    "#print(\"%.2f\" %(total_time/3600),\"hours\")"
   ]
  },
  {
   "cell_type": "code",
   "execution_count": 88,
   "id": "defe6660-7326-4d63-83cc-87d15030274a",
   "metadata": {},
   "outputs": [
    {
     "data": {
      "text/plain": [
       "2.08"
      ]
     },
     "execution_count": 88,
     "metadata": {},
     "output_type": "execute_result"
    }
   ],
   "source": [
    "P_total_load2"
   ]
  },
  {
   "cell_type": "code",
   "execution_count": 51,
   "id": "0072acb5-2b6f-489e-a96a-23b9114c99ab",
   "metadata": {},
   "outputs": [],
   "source": [
    "x7 = lambda T: ((m_lna*C_lna)+(m_plate*C_plate)+(m_cs1*C_cs1)+(m_ns*C_ns)+(m_cc*C_cc))/((5*T-200)/37 - P_total_load2)\n",
    "popt7,cov7=integrate.quad(x7, T_mid, T_high)"
   ]
  },
  {
   "cell_type": "code",
   "execution_count": 53,
   "id": "636b2d0e-dcef-4ac6-a439-d6d7b202409f",
   "metadata": {},
   "outputs": [
    {
     "name": "stdout",
     "output_type": "stream",
     "text": [
      "Total time with all components and 1.5 kg load is 35.84 minutes\n"
     ]
    }
   ],
   "source": [
    "print(\"Total time with all components and 1.5 kg load is %.2f\" %(popt7/60),\"minutes\")"
   ]
  },
  {
   "cell_type": "code",
   "execution_count": null,
   "id": "e129224f-36e1-42ef-8b3e-4bd19e8841ea",
   "metadata": {},
   "outputs": [],
   "source": []
  }
 ],
 "metadata": {
  "kernelspec": {
   "display_name": "Python 3 (ipykernel)",
   "language": "python",
   "name": "python3"
  },
  "language_info": {
   "codemirror_mode": {
    "name": "ipython",
    "version": 3
   },
   "file_extension": ".py",
   "mimetype": "text/x-python",
   "name": "python",
   "nbconvert_exporter": "python",
   "pygments_lexer": "ipython3",
   "version": "3.12.1"
  }
 },
 "nbformat": 4,
 "nbformat_minor": 5
}

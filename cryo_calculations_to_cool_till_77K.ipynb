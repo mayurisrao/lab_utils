{
 "cells": [
  {
   "cell_type": "code",
   "execution_count": 20,
   "id": "70e5b553-2f75-41db-991a-24cef12b68ce",
   "metadata": {},
   "outputs": [],
   "source": [
    "import numpy as np\n",
    "import math \n",
    "from scipy import integrate"
   ]
  },
  {
   "cell_type": "code",
   "execution_count": 42,
   "id": "1535b66d-4471-499f-ba53-4a800a0e4d9e",
   "metadata": {},
   "outputs": [],
   "source": [
    "# P_cryostat = 5 Watts\n",
    "T_low=77\n",
    "T_high=300\n",
    "T_diff=T_high-T_low\n",
    "P_cryostat=5\n"
   ]
  },
  {
   "cell_type": "code",
   "execution_count": 43,
   "id": "52b454c1-38af-45fa-844a-f98037e9fbc8",
   "metadata": {},
   "outputs": [],
   "source": [
    "# Cryostat equation from power vs temp curve:\n",
    "# boundary terms: P=0 at x=40; P=5 at x = 77\n",
    "# eq: P= 1/37 * (5T-200)"
   ]
  },
  {
   "cell_type": "code",
   "execution_count": 44,
   "id": "52a16781-4540-4ae8-9965-56fb2c173216",
   "metadata": {},
   "outputs": [
    {
     "name": "stdout",
     "output_type": "stream",
     "text": [
      "Active heat load from of LNA in J/s or Watt 0.48\n",
      "Total time required to cool LNA is 15.83 min\n"
     ]
    }
   ],
   "source": [
    "#LNA\n",
    "m_lna=50 #in grams\n",
    "delT_lna=T_diff\n",
    "C_lna=0.385 #specific heat capacity in J/g K; (Cu=0.385); for Gold, C= 0.129 J/g K\n",
    "#delt_lna=300 #time period of cooling in sec\n",
    "\n",
    "#Power_phy_lna=(m_lna*C_lna*delT_lna)/delt_lna\n",
    "#print(\"Power from physical mass of LNA in J/s or Watt\",Power_phy_lna)\n",
    "\n",
    "volt_lna= 6 #in Volts\n",
    "curr_lna= 0.08 #in Amps\n",
    "\n",
    "Power_elec_lna=volt_lna*curr_lna\n",
    "print(\"Active heat load from of LNA in J/s or Watt\",Power_elec_lna)\n",
    "\n",
    "#print(\"Total power from of LNA in J/s or Watt\",Power_elec_lna+Power_phy_lna)\n",
    "\n",
    "### time to cool LNA only in 5W capacity cryostat\n",
    "\n",
    "time_lna=(m_lna*C_lna*delT_lna)/(P_cryostat-Power_elec_lna)\n",
    "print(\"Total time required to cool LNA is\",\"%.2f\" %(time_lna/60),\"min\")\n",
    "\n",
    "####### LNA WBA2060-30A"
   ]
  },
  {
   "cell_type": "code",
   "execution_count": 104,
   "id": "b6a13444-d0aa-484f-9258-8a6c7ee95ee1",
   "metadata": {},
   "outputs": [],
   "source": [
    "x1 = lambda T: m_lna*C_lna/((5*T-200)/37 - Power_elec_lna)\n",
    "popt1,cov1=integrate.quad(x1, T_low, T_high)"
   ]
  },
  {
   "cell_type": "code",
   "execution_count": 105,
   "id": "746cfdf5-069d-40d3-ba0f-07a5a353b7b2",
   "metadata": {},
   "outputs": [
    {
     "name": "stdout",
     "output_type": "stream",
     "text": [
      "Total time required to cool LNA is 4.84 min\n"
     ]
    }
   ],
   "source": [
    "print(\"Total time required to cool LNA is\",\"%.2f\" %(popt1/60),\"min\")"
   ]
  },
  {
   "cell_type": "code",
   "execution_count": 47,
   "id": "a6e32a72-16ae-4fd2-9a68-05529e50f540",
   "metadata": {},
   "outputs": [
    {
     "name": "stdout",
     "output_type": "stream",
     "text": [
      "Total time required to cool Cu plate is 214.64 min\n"
     ]
    }
   ],
   "source": [
    "# Cu mount plate\n",
    "# Conductive load -> time required to cool\n",
    "# Independent of dimensions (required for thermal conductivity calculations)?\n",
    "# Only consider physical mass and specific heat to calculate time req to cool\n",
    "# Dimensions of exsiting plate: Diameter = 6cm, height = 1cm, mass = 200 g ?\n",
    "C_plate=0.385 #J/g K\n",
    "m_plate=750 # in grams\n",
    "delT_plate=T_diff\n",
    "\n",
    "t_plate=m_plate*C_plate*delT_plate/(P_cryostat)\n",
    "print(\"Total time required to cool Cu plate is\",\"%.2f\" %(t_plate/60),\"min\")"
   ]
  },
  {
   "cell_type": "code",
   "execution_count": 106,
   "id": "8a3cf976-50cd-42f3-90a4-ba558bed67ac",
   "metadata": {},
   "outputs": [],
   "source": [
    "x2 = lambda T: 37*m_plate*C_plate/(5*T-200)\n",
    "popt2,cov2=integrate.quad(x2, T_low, T_high)"
   ]
  },
  {
   "cell_type": "code",
   "execution_count": 107,
   "id": "7d7c4bc8-710e-4302-a43d-76ac6f6b1be5",
   "metadata": {},
   "outputs": [
    {
     "name": "stdout",
     "output_type": "stream",
     "text": [
      "Total time required to cool Cu plate is 69.44 min\n"
     ]
    }
   ],
   "source": [
    "#(37*m_plate*C_plate*np.log(1300/185)/5)/60\n",
    "print(\"Total time required to cool Cu plate is\",\"%.2f\" %(popt2/60),\"min\")"
   ]
  },
  {
   "cell_type": "code",
   "execution_count": 50,
   "id": "ba17efb4-8d08-4136-9c93-bb9957278ca4",
   "metadata": {},
   "outputs": [
    {
     "name": "stdout",
     "output_type": "stream",
     "text": [
      "Active heat load from of cryo switch in J/s or Watt 1.5\n",
      "Total time required to cool switch from 300 K to 77 K is 63.71 min\n"
     ]
    }
   ],
   "source": [
    "# Cryo switch:\n",
    "# R5927B2141  0 - 26.5 GHz\n",
    "m_cs1=120 #in grams\n",
    "delT_cs1=T_diff\n",
    "C_cs1=0.50 #specific heat capacity in J/g K; for silicon\n",
    "\n",
    "\n",
    "#Power_phy_cs1=(m_cs1*C_cs1*delT_cs1)/delt_cs1\n",
    "#print(\"Power from physical mass of LNA in J/s or Watt\",Power_phy_cs1)\n",
    "\n",
    "volt_cs1= 12 #in Volts\n",
    "curr_cs1= 0.125 #in Amps (100mA at 25 deg C)\n",
    "\n",
    "Power_elec_cs1=volt_cs1*curr_cs1\n",
    "print(\"Active heat load from of cryo switch in J/s or Watt\",Power_elec_cs1)\n",
    "\n",
    "#print(\"Total power from of LNA in J/s or Watt\",Power_elec_cs1+Power_phy_cs1)\n",
    "\n",
    "### time to cool LNA only in 5W capacity cryostat\n",
    "\n",
    "time_cs1=(m_cs1*C_cs1*delT_cs1)/(P_cryostat-Power_elec_cs1)\n",
    "print(\"Total time required to cool switch from\",T_high,\"K to\",T_low,\"K is\",\"%.2f\" %(time_cs1/60),\"min\")\n"
   ]
  },
  {
   "cell_type": "code",
   "execution_count": 108,
   "id": "b7284d28-c6a9-4784-a6ee-2c4975b2d227",
   "metadata": {},
   "outputs": [],
   "source": [
    "x3 = lambda T: m_cs1*C_cs1/((5*T-200)/37 - Power_elec_cs1)\n",
    "popt3,cov3=integrate.quad(x3, T_low, T_high)"
   ]
  },
  {
   "cell_type": "code",
   "execution_count": 109,
   "id": "47fd2201-5857-4411-845e-1ecfff97af33",
   "metadata": {},
   "outputs": [
    {
     "name": "stdout",
     "output_type": "stream",
     "text": [
      "Total time required to cool switch from 300 K to 77 K is 16.74 min\n"
     ]
    }
   ],
   "source": [
    "print(\"Total time required to cool switch from\",T_high,\"K to\",T_low,\"K is\",\"%.2f\" %(popt3/60),\"min\")"
   ]
  },
  {
   "cell_type": "code",
   "execution_count": 53,
   "id": "0a837cbc-adfe-4bed-8d95-e6ab522d3ce0",
   "metadata": {},
   "outputs": [
    {
     "name": "stdout",
     "output_type": "stream",
     "text": [
      "Conductive load of coax to cool from 300 to 77 is 1.0503 Watt\n"
     ]
    }
   ],
   "source": [
    "#Coax\n",
    "k_coax=0.15 #thermal conductivity of stainless steel in Watt per Kelvin per cm\n",
    "#1 inch = 2.54cm\n",
    "#1 AWG = 7.35 mm diameter\n",
    "#for RG219/U Coaxial cable: diameter 0.928 inch -> cross section = 3.14*(0.928*2.54/2)**2\n",
    "\n",
    "l_coax= 4 #length in cm\n",
    "dia_coax=4 #in mm\n",
    "\n",
    "\n",
    "A_coax= 3.14*(dia_coax*0.1/2)**2 #in cm^2\n",
    "del_Toax=T_diff\n",
    "P_coax=k_coax*A_coax*del_Toax/l_coax\n",
    "print(\"Conductive load of coax to cool from\",T_high,\"to\",T_low,\"is\",\"%.4f\" %P_coax,\"Watt\")"
   ]
  },
  {
   "cell_type": "code",
   "execution_count": 54,
   "id": "5de092e9-f4c4-42a2-91de-b238ca3eeb0a",
   "metadata": {},
   "outputs": [
    {
     "name": "stdout",
     "output_type": "stream",
     "text": [
      "Active heat load from of noise source in J/s or Watt 0.1\n",
      "Total time required to cool noise source from 300 K to 77 K is 136.53 min\n"
     ]
    }
   ],
   "source": [
    "# Noise source\n",
    "# R5927B2141  0 - 26.5 GHz\n",
    "m_ns=200 #in grams\n",
    "delT_ns=T_diff\n",
    "C_ns=0.90 #specific heat capacity in J/g K; for aluminium\n",
    "\n",
    "\n",
    "#Power_phy_cs1=(m_cs1*C_cs1*delT_cs1)/delt_cs1\n",
    "#print(\"Power from physical mass of LNA in J/s or Watt\",Power_phy_cs1)\n",
    "\n",
    "volt_ns= 5 #in Volts\n",
    "curr_ns= 0.020 #in Amps (100mA at 25 deg C)\n",
    "\n",
    "Power_elec_ns=volt_ns*curr_ns\n",
    "print(\"Active heat load from of noise source in J/s or Watt\",Power_elec_ns)\n",
    "\n",
    "#print(\"Total power from of LNA in J/s or Watt\",Power_elec_cs1+Power_phy_cs1)\n",
    "\n",
    "### time to cool LNA only in 5W capacity cryostat\n",
    "\n",
    "time_ns=(m_ns*C_ns*delT_ns)/(P_cryostat-Power_elec_ns)\n",
    "print(\"Total time required to cool noise source from\",T_high,\"K to\",T_low,\"K is\",\"%.2f\" %(time_ns/60),\"min\")\n"
   ]
  },
  {
   "cell_type": "code",
   "execution_count": 110,
   "id": "6bb51fd7-af40-4c19-b34c-acabf38a01ce",
   "metadata": {},
   "outputs": [],
   "source": [
    "x4 = lambda T: m_ns*C_ns/((5*T-200)/37 - Power_elec_ns)\n",
    "popt4,cov4=integrate.quad(x4, T_low, T_high)"
   ]
  },
  {
   "cell_type": "code",
   "execution_count": 111,
   "id": "0e95269f-66e4-4556-bc5b-ea4ed4cd43fe",
   "metadata": {},
   "outputs": [
    {
     "name": "stdout",
     "output_type": "stream",
     "text": [
      "Total time required to cool noise source from 300 K to 77 K is 43.67 min\n"
     ]
    }
   ],
   "source": [
    "print(\"Total time required to cool noise source from\",T_high,\"K to\",T_low,\"K is\",\"%.2f\" %(popt4/60),\"min\")"
   ]
  },
  {
   "cell_type": "code",
   "execution_count": 61,
   "id": "e0a96376-040f-46f3-9c1c-dce4cb1d5e80",
   "metadata": {},
   "outputs": [
    {
     "name": "stdout",
     "output_type": "stream",
     "text": [
      "Total time required to cool cryo circulator from 300 K to 77 K is 267.60 min\n"
     ]
    }
   ],
   "source": [
    "# Cryo circulator\n",
    "# R5927B2141  0 - 26.5 GHz\n",
    "m_cc=400 #in grams\n",
    "delT_cc=T_diff\n",
    "C_cc=0.90 #specific heat capacity in J/g K; for aluminium\n",
    "\n",
    "\n",
    "\n",
    "\n",
    "#print(\"Total power from of LNA in J/s or Watt\",Power_elec_cs1+Power_phy_cs1)\n",
    "\n",
    "### time to cool LNA only in 5W capacity cryostat\n",
    "\n",
    "time_cc=(m_cc*C_cc*delT_cc)/(P_cryostat)\n",
    "print(\"Total time required to cool cryo circulator from\",T_high,\"K to\",T_low,\"K is\",\"%.2f\" %(time_cc/60),\"min\")\n"
   ]
  },
  {
   "cell_type": "code",
   "execution_count": 112,
   "id": "bb8118fd-1c54-4f29-b9d7-9c42e57f7c2f",
   "metadata": {},
   "outputs": [],
   "source": [
    "x5 = lambda T: 37*m_cc*C_cc/(5*T-200)\n",
    "popt5,cov5=integrate.quad(x5, T_low, T_high)"
   ]
  },
  {
   "cell_type": "code",
   "execution_count": 113,
   "id": "78515c96-0bef-4288-ad8b-e089e83f93cf",
   "metadata": {},
   "outputs": [
    {
     "name": "stdout",
     "output_type": "stream",
     "text": [
      "Total time required to cool cryo circulator from 300 K to 77 K is 86.57 min\n"
     ]
    }
   ],
   "source": [
    "print(\"Total time required to cool cryo circulator from\",T_high,\"K to\",T_low,\"K is\",\"%.2f\" %(popt5/60),\"min\")"
   ]
  },
  {
   "cell_type": "markdown",
   "id": "69a572fe-f134-49a7-a541-3a8f570257ef",
   "metadata": {
    "jp-MarkdownHeadingCollapsed": true
   },
   "source": [
    "# Net time"
   ]
  },
  {
   "cell_type": "markdown",
   "id": "e7eaf904-3864-44fe-bfa6-fdfdc55aefe6",
   "metadata": {},
   "source": [
    "# Net time"
   ]
  },
  {
   "cell_type": "code",
   "execution_count": 121,
   "id": "515ec65a-4e7d-4243-abe0-41bd01eb1b9b",
   "metadata": {},
   "outputs": [
    {
     "name": "stdout",
     "output_type": "stream",
     "text": [
      "30.08 hours\n"
     ]
    }
   ],
   "source": [
    "# Net time taken with all the above components\n",
    "P_total_load1=Power_elec_ns+P_coax+Power_elec_cs1+Power_elec_lna\n",
    "total_time=((m_lna*C_lna*delT_lna)+(m_plate*C_plate*delT_plate)+(m_cs1*C_cs1*delT_cs1)+(m_ns*C_ns*delT_ns)+(m_cc*C_cc*delT_cc))/(P_cryostat-P_total_load1)\n",
    "print(\"%.2f\" %(total_time/3600),\"hours\")"
   ]
  },
  {
   "cell_type": "code",
   "execution_count": 122,
   "id": "28045614-d9e4-4a98-a55f-705c08584c2b",
   "metadata": {},
   "outputs": [],
   "source": [
    "x6 = lambda T: ((m_lna*C_lna)+(m_plate*C_plate)+(m_cs1*C_cs1)+(m_ns*C_ns)+(m_cc*C_cc))/((5*T-200)/37 - P_total_load1)\n",
    "popt6,cov6=integrate.quad(x6, T_low, T_high)"
   ]
  },
  {
   "cell_type": "code",
   "execution_count": 123,
   "id": "896ac501-867b-4837-bace-0240ae1558c4",
   "metadata": {},
   "outputs": [
    {
     "name": "stdout",
     "output_type": "stream",
     "text": [
      "Total time with all components and 1.5 kg load is 5.30 hours\n"
     ]
    }
   ],
   "source": [
    "print(\"Total time with all components and 1.5 kg load is %.2f\" %(popt6/3600),\"hours\")"
   ]
  },
  {
   "cell_type": "code",
   "execution_count": 125,
   "id": "aa9656f7-1ed8-473c-a2b1-11d9375e8d0d",
   "metadata": {},
   "outputs": [
    {
     "data": {
      "text/plain": [
       "3.1303300000000003"
      ]
     },
     "execution_count": 125,
     "metadata": {},
     "output_type": "execute_result"
    }
   ],
   "source": [
    "P_total_load1"
   ]
  },
  {
   "cell_type": "code",
   "execution_count": 126,
   "id": "2dd94c6f-6c0d-4dfd-a5fb-0780155e011d",
   "metadata": {},
   "outputs": [
    {
     "name": "stdout",
     "output_type": "stream",
     "text": [
      "19.26 hours\n"
     ]
    }
   ],
   "source": [
    "# Net time taken without coax loss\n",
    "P_total_load2=Power_elec_ns+Power_elec_cs1+Power_elec_lna\n",
    "total_time=((m_lna*C_lna*delT_lna)+(m_plate*C_plate*delT_plate)+(m_cs1*C_cs1*delT_cs1)+(m_ns*C_ns*delT_ns)+(m_cc*C_cc*delT_cc))/(P_cryostat-P_total_load2)\n",
    "print(\"%.2f\" %(total_time/3600),\"hours\")"
   ]
  },
  {
   "cell_type": "code",
   "execution_count": 127,
   "id": "f559c67a-0152-4658-84ab-62c106ea8654",
   "metadata": {},
   "outputs": [
    {
     "data": {
      "text/plain": [
       "2.08"
      ]
     },
     "execution_count": 127,
     "metadata": {},
     "output_type": "execute_result"
    }
   ],
   "source": [
    "P_total_load2"
   ]
  },
  {
   "cell_type": "code",
   "execution_count": 130,
   "id": "6ae460bf-6899-40be-b269-72cf62d78315",
   "metadata": {},
   "outputs": [],
   "source": [
    "x7 = lambda T: ((m_lna*C_lna)+(m_plate*C_plate)+(m_cs1*C_cs1)+(m_ns*C_ns)+(m_cc*C_cc))/((5*T-200)/37 - P_total_load2)\n",
    "popt7,cov7=integrate.quad(x7, T_low, T_high)"
   ]
  },
  {
   "cell_type": "code",
   "execution_count": 129,
   "id": "d7fb99ae-780e-4335-a8b5-61e324948dcf",
   "metadata": {},
   "outputs": [
    {
     "name": "stdout",
     "output_type": "stream",
     "text": [
      "Total time with all components and 1.5 kg load is 4.53 hours\n"
     ]
    }
   ],
   "source": [
    "print(\"Total time with all components and 1.5 kg load is %.2f\" %(popt7/3600),\"hours\")"
   ]
  },
  {
   "cell_type": "code",
   "execution_count": null,
   "id": "6c50f4a0-f9ad-460c-824e-2e603607c2e5",
   "metadata": {},
   "outputs": [],
   "source": []
  }
 ],
 "metadata": {
  "kernelspec": {
   "display_name": "Python 3 (ipykernel)",
   "language": "python",
   "name": "python3"
  },
  "language_info": {
   "codemirror_mode": {
    "name": "ipython",
    "version": 3
   },
   "file_extension": ".py",
   "mimetype": "text/x-python",
   "name": "python",
   "nbconvert_exporter": "python",
   "pygments_lexer": "ipython3",
   "version": "3.12.1"
  }
 },
 "nbformat": 4,
 "nbformat_minor": 5
}

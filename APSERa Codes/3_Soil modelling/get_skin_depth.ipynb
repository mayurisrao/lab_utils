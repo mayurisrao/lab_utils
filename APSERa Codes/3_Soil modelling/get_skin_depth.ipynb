{
 "cells": [
  {
   "cell_type": "code",
   "execution_count": 31,
   "id": "8e9eb7e4-a9e0-4c31-80a7-66bcb7a5db07",
   "metadata": {},
   "outputs": [
    {
     "name": "stdout",
     "output_type": "stream",
     "text": [
      "0.18137389061153264\n"
     ]
    }
   ],
   "source": [
    "import math\n",
    "\n",
    "pho = (1/0.0022) \n",
    "f = 3.5 * (10**9)\n",
    "mu_r = 1\n",
    "mu_0 = 4 * math.pi * (10**(-7))\n",
    "\n",
    "delta = math.sqrt(pho/(math.pi*f*mu_r*mu_0))\n",
    "print(delta)"
   ]
  },
  {
   "cell_type": "code",
   "execution_count": 29,
   "id": "f195a736-0d45-4ea3-881e-cc7bded982ca",
   "metadata": {},
   "outputs": [
    {
     "data": {
      "text/plain": [
       "13817.446161525102"
      ]
     },
     "execution_count": 29,
     "metadata": {},
     "output_type": "execute_result"
    }
   ],
   "source": [
    "math.pi*f*mu_r*mu_0"
   ]
  },
  {
   "cell_type": "code",
   "execution_count": null,
   "id": "5da14a45-1aa2-4c28-88ab-741ed85c7bed",
   "metadata": {},
   "outputs": [],
   "source": []
  }
 ],
 "metadata": {
  "kernelspec": {
   "display_name": "Python 3 (ipykernel)",
   "language": "python",
   "name": "python3"
  },
  "language_info": {
   "codemirror_mode": {
    "name": "ipython",
    "version": 3
   },
   "file_extension": ".py",
   "mimetype": "text/x-python",
   "name": "python",
   "nbconvert_exporter": "python",
   "pygments_lexer": "ipython3",
   "version": "3.11.9"
  }
 },
 "nbformat": 4,
 "nbformat_minor": 5
}
